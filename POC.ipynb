{
 "cells": [
  {
   "cell_type": "markdown",
   "id": "1ad38505-f3a0-4340-b281-050243b4bd7c",
   "metadata": {},
   "source": [
    "## TOPIC:  Clinical Decision Making and Pattern Recognition in Health Care"
   ]
  },
  {
   "cell_type": "markdown",
   "id": "fdae6d2a-6428-443a-a428-5a719ab8b17c",
   "metadata": {},
   "source": [
    "### About Data\n",
    "In this project, we are using the \"Cleveland Data CLEANED AND TRIMMED.csv\" heart disease dataset provided. It is a subset of the \"Cleveland\" dataset that can be found here: https://archive.ics.uci.edu/ml/datasets/Heart+Disease"
   ]
  },
  {
   "cell_type": "markdown",
   "id": "51c00aae-908e-4b37-ae65-a22d8e35991a",
   "metadata": {},
   "source": [
    "### Business Objective\n",
    "I want to improve the heart health of its patients. I have obtained a dataset that contains a variety of demographics and health-related information for a group of patients. It also includes a CLASS variable \"num\" that indicates the heart health of each of the patients. \n",
    "\n",
    "I will identify the classifier that would predict the CLASS of new patients so they can be enrolled for treatments based on their demographic data. The identified classifier will help save the Doctor’s time by analyzing the previous health history of the patient and placing the patient in the correct class of risk and also based on class  treatment cost will be calculated.\n",
    "\n",
    "The different classes are  :\n",
    "\n",
    "* No heart health issues / risk- 0\n",
    "* Slight heart health issues / risk- 1\n",
    "* Moderate heart health issues / risk- 2\n",
    "* High heart health issues / risk- 3\n",
    "* Extreme heart health issue / risk- 4\n",
    "\n",
    "\n",
    "The COSTs (in dollars) of the treatments are as follows, based on the predicted class of each patient:\n",
    "\n",
    "Note: The Costs are assumed on a random basis.\n",
    "\n",
    "0) Tiny intervention: 100\n",
    "1) Minor intervention: 200\n",
    "2) Moderate intervention: 300 \n",
    "3) Significant intervention: 400 \n",
    "4) Extreme intervention: 500\n",
    "\n",
    "        \n",
    "I would be evaluating 3 classifiers i.e Random forest, SVM , XGBoost and decide on the best classifier based on the performance metrics to predict the class of new patient and calculate treatment cost.\n"
   ]
  },
  {
   "cell_type": "code",
   "execution_count": 20,
   "id": "20759524-a55e-4cc3-bacc-20df83969a78",
   "metadata": {},
   "outputs": [],
   "source": [
    "import pandas as pd\n",
    "import numpy as np\n",
    "from sklearn.model_selection import train_test_split, GridSearchCV\n",
    "from sklearn.preprocessing import StandardScaler\n",
    "from sklearn.ensemble import RandomForestClassifier\n",
    "from sklearn.svm import SVC\n",
    "from xgboost import XGBClassifier\n",
    "from sklearn.metrics import accuracy_score, classification_report\n",
    "from sklearn.utils import resample, shuffle\n",
    "import matplotlib.pyplot as plt\n",
    "import seaborn as sns\n"
   ]
  },
  {
   "cell_type": "code",
   "execution_count": 21,
   "id": "9a7de469-db0f-4f79-8536-8e2e9ed48bcb",
   "metadata": {},
   "outputs": [],
   "source": [
    "# Load the dataset\n",
    "data = pd.read_csv(r\"C:\\Users\\91970\\Downloads\\DM\\Final Project\\Cleveland Data CLEANED AND TRIMMED.csv\")"
   ]
  },
  {
   "cell_type": "code",
   "execution_count": 24,
   "id": "bb51073f-0258-44f7-a6f0-baf1ba21a07b",
   "metadata": {},
   "outputs": [
    {
     "data": {
      "text/html": [
       "<div>\n",
       "<style scoped>\n",
       "    .dataframe tbody tr th:only-of-type {\n",
       "        vertical-align: middle;\n",
       "    }\n",
       "\n",
       "    .dataframe tbody tr th {\n",
       "        vertical-align: top;\n",
       "    }\n",
       "\n",
       "    .dataframe thead th {\n",
       "        text-align: right;\n",
       "    }\n",
       "</style>\n",
       "<table border=\"1\" class=\"dataframe\">\n",
       "  <thead>\n",
       "    <tr style=\"text-align: right;\">\n",
       "      <th></th>\n",
       "      <th>id</th>\n",
       "      <th>age</th>\n",
       "      <th>sex</th>\n",
       "      <th>cp</th>\n",
       "      <th>trestbps</th>\n",
       "      <th>chol</th>\n",
       "      <th>fbs</th>\n",
       "      <th>restecg</th>\n",
       "      <th>thalach</th>\n",
       "      <th>exang</th>\n",
       "      <th>oldpeak</th>\n",
       "      <th>slope</th>\n",
       "      <th>ca</th>\n",
       "      <th>thal</th>\n",
       "      <th>num</th>\n",
       "    </tr>\n",
       "  </thead>\n",
       "  <tbody>\n",
       "    <tr>\n",
       "      <th>0</th>\n",
       "      <td>1</td>\n",
       "      <td>63</td>\n",
       "      <td>1</td>\n",
       "      <td>1</td>\n",
       "      <td>145</td>\n",
       "      <td>233</td>\n",
       "      <td>1</td>\n",
       "      <td>2</td>\n",
       "      <td>150</td>\n",
       "      <td>0</td>\n",
       "      <td>2.3</td>\n",
       "      <td>3</td>\n",
       "      <td>0</td>\n",
       "      <td>6</td>\n",
       "      <td>0</td>\n",
       "    </tr>\n",
       "    <tr>\n",
       "      <th>1</th>\n",
       "      <td>2</td>\n",
       "      <td>67</td>\n",
       "      <td>1</td>\n",
       "      <td>4</td>\n",
       "      <td>160</td>\n",
       "      <td>286</td>\n",
       "      <td>0</td>\n",
       "      <td>2</td>\n",
       "      <td>108</td>\n",
       "      <td>1</td>\n",
       "      <td>1.5</td>\n",
       "      <td>2</td>\n",
       "      <td>3</td>\n",
       "      <td>3</td>\n",
       "      <td>2</td>\n",
       "    </tr>\n",
       "    <tr>\n",
       "      <th>2</th>\n",
       "      <td>3</td>\n",
       "      <td>67</td>\n",
       "      <td>1</td>\n",
       "      <td>4</td>\n",
       "      <td>120</td>\n",
       "      <td>229</td>\n",
       "      <td>0</td>\n",
       "      <td>2</td>\n",
       "      <td>129</td>\n",
       "      <td>1</td>\n",
       "      <td>2.6</td>\n",
       "      <td>2</td>\n",
       "      <td>2</td>\n",
       "      <td>7</td>\n",
       "      <td>1</td>\n",
       "    </tr>\n",
       "    <tr>\n",
       "      <th>3</th>\n",
       "      <td>4</td>\n",
       "      <td>37</td>\n",
       "      <td>1</td>\n",
       "      <td>3</td>\n",
       "      <td>130</td>\n",
       "      <td>250</td>\n",
       "      <td>0</td>\n",
       "      <td>0</td>\n",
       "      <td>187</td>\n",
       "      <td>0</td>\n",
       "      <td>3.5</td>\n",
       "      <td>3</td>\n",
       "      <td>0</td>\n",
       "      <td>3</td>\n",
       "      <td>0</td>\n",
       "    </tr>\n",
       "    <tr>\n",
       "      <th>4</th>\n",
       "      <td>5</td>\n",
       "      <td>41</td>\n",
       "      <td>0</td>\n",
       "      <td>2</td>\n",
       "      <td>130</td>\n",
       "      <td>204</td>\n",
       "      <td>0</td>\n",
       "      <td>2</td>\n",
       "      <td>172</td>\n",
       "      <td>0</td>\n",
       "      <td>1.4</td>\n",
       "      <td>1</td>\n",
       "      <td>0</td>\n",
       "      <td>3</td>\n",
       "      <td>0</td>\n",
       "    </tr>\n",
       "    <tr>\n",
       "      <th>...</th>\n",
       "      <td>...</td>\n",
       "      <td>...</td>\n",
       "      <td>...</td>\n",
       "      <td>...</td>\n",
       "      <td>...</td>\n",
       "      <td>...</td>\n",
       "      <td>...</td>\n",
       "      <td>...</td>\n",
       "      <td>...</td>\n",
       "      <td>...</td>\n",
       "      <td>...</td>\n",
       "      <td>...</td>\n",
       "      <td>...</td>\n",
       "      <td>...</td>\n",
       "      <td>...</td>\n",
       "    </tr>\n",
       "    <tr>\n",
       "      <th>277</th>\n",
       "      <td>278</td>\n",
       "      <td>39</td>\n",
       "      <td>0</td>\n",
       "      <td>3</td>\n",
       "      <td>138</td>\n",
       "      <td>220</td>\n",
       "      <td>0</td>\n",
       "      <td>0</td>\n",
       "      <td>152</td>\n",
       "      <td>0</td>\n",
       "      <td>0.0</td>\n",
       "      <td>2</td>\n",
       "      <td>0</td>\n",
       "      <td>3</td>\n",
       "      <td>0</td>\n",
       "    </tr>\n",
       "    <tr>\n",
       "      <th>278</th>\n",
       "      <td>279</td>\n",
       "      <td>57</td>\n",
       "      <td>1</td>\n",
       "      <td>2</td>\n",
       "      <td>154</td>\n",
       "      <td>232</td>\n",
       "      <td>0</td>\n",
       "      <td>2</td>\n",
       "      <td>164</td>\n",
       "      <td>0</td>\n",
       "      <td>0.0</td>\n",
       "      <td>1</td>\n",
       "      <td>1</td>\n",
       "      <td>3</td>\n",
       "      <td>1</td>\n",
       "    </tr>\n",
       "    <tr>\n",
       "      <th>279</th>\n",
       "      <td>280</td>\n",
       "      <td>58</td>\n",
       "      <td>0</td>\n",
       "      <td>4</td>\n",
       "      <td>130</td>\n",
       "      <td>197</td>\n",
       "      <td>0</td>\n",
       "      <td>0</td>\n",
       "      <td>131</td>\n",
       "      <td>0</td>\n",
       "      <td>0.6</td>\n",
       "      <td>2</td>\n",
       "      <td>0</td>\n",
       "      <td>3</td>\n",
       "      <td>0</td>\n",
       "    </tr>\n",
       "    <tr>\n",
       "      <th>280</th>\n",
       "      <td>281</td>\n",
       "      <td>57</td>\n",
       "      <td>1</td>\n",
       "      <td>4</td>\n",
       "      <td>110</td>\n",
       "      <td>335</td>\n",
       "      <td>0</td>\n",
       "      <td>0</td>\n",
       "      <td>143</td>\n",
       "      <td>1</td>\n",
       "      <td>3.0</td>\n",
       "      <td>2</td>\n",
       "      <td>1</td>\n",
       "      <td>7</td>\n",
       "      <td>2</td>\n",
       "    </tr>\n",
       "    <tr>\n",
       "      <th>281</th>\n",
       "      <td>282</td>\n",
       "      <td>47</td>\n",
       "      <td>1</td>\n",
       "      <td>3</td>\n",
       "      <td>130</td>\n",
       "      <td>253</td>\n",
       "      <td>0</td>\n",
       "      <td>0</td>\n",
       "      <td>179</td>\n",
       "      <td>0</td>\n",
       "      <td>0.0</td>\n",
       "      <td>1</td>\n",
       "      <td>0</td>\n",
       "      <td>3</td>\n",
       "      <td>0</td>\n",
       "    </tr>\n",
       "  </tbody>\n",
       "</table>\n",
       "<p>282 rows × 15 columns</p>\n",
       "</div>"
      ],
      "text/plain": [
       "      id  age  sex  cp  trestbps  chol  fbs  restecg  thalach  exang  oldpeak  \\\n",
       "0      1   63    1   1       145   233    1        2      150      0      2.3   \n",
       "1      2   67    1   4       160   286    0        2      108      1      1.5   \n",
       "2      3   67    1   4       120   229    0        2      129      1      2.6   \n",
       "3      4   37    1   3       130   250    0        0      187      0      3.5   \n",
       "4      5   41    0   2       130   204    0        2      172      0      1.4   \n",
       "..   ...  ...  ...  ..       ...   ...  ...      ...      ...    ...      ...   \n",
       "277  278   39    0   3       138   220    0        0      152      0      0.0   \n",
       "278  279   57    1   2       154   232    0        2      164      0      0.0   \n",
       "279  280   58    0   4       130   197    0        0      131      0      0.6   \n",
       "280  281   57    1   4       110   335    0        0      143      1      3.0   \n",
       "281  282   47    1   3       130   253    0        0      179      0      0.0   \n",
       "\n",
       "     slope  ca  thal  num  \n",
       "0        3   0     6    0  \n",
       "1        2   3     3    2  \n",
       "2        2   2     7    1  \n",
       "3        3   0     3    0  \n",
       "4        1   0     3    0  \n",
       "..     ...  ..   ...  ...  \n",
       "277      2   0     3    0  \n",
       "278      1   1     3    1  \n",
       "279      2   0     3    0  \n",
       "280      2   1     7    2  \n",
       "281      1   0     3    0  \n",
       "\n",
       "[282 rows x 15 columns]"
      ]
     },
     "execution_count": 24,
     "metadata": {},
     "output_type": "execute_result"
    }
   ],
   "source": [
    "data"
   ]
  },
  {
   "cell_type": "code",
   "execution_count": 26,
   "id": "b42dfc61-14dc-49fa-a27c-9d961eda5c6e",
   "metadata": {},
   "outputs": [],
   "source": [
    "# Drop unnecessary columns like 'id'\n",
    "cleaned_data = data.drop(columns=['id'])"
   ]
  },
  {
   "cell_type": "code",
   "execution_count": 28,
   "id": "238db7f7-adc7-4ec6-8c3c-f3cc1c6927c3",
   "metadata": {},
   "outputs": [],
   "source": [
    "# Splitting the data into features and target\n",
    "X = cleaned_data.drop(columns=['num'])\n",
    "y = cleaned_data['num'].astype(int)"
   ]
  },
  {
   "cell_type": "markdown",
   "id": "d0fd9978-e1a6-4234-805f-602ffd06c1a7",
   "metadata": {},
   "source": [
    "#### If the target variable (e.g., num in this dataset) is imbalanced, the model might become biased towards the majority class because it is seen more often during training. This means the model might predict the majority class more frequently, even for cases where the minority class is more appropriate."
   ]
  },
  {
   "cell_type": "code",
   "execution_count": 43,
   "id": "ec0e3ec8-4471-4f6a-93b7-f1a0f2652cb3",
   "metadata": {},
   "outputs": [
    {
     "data": {
      "image/png": "[encoded data removed]",
      "text/plain": [
       "<Figure size 800x600 with 1 Axes>"
      ]
     },
     "metadata": {},
     "output_type": "display_data"
    }
   ],
   "source": [
    "# Visualize the class distribution to check imbalance\n",
    "plt.figure(figsize=(8, 6))\n",
    "sns.countplot(x=y)\n",
    "plt.title('Class Distribution in the Target Variable')\n",
    "plt.xlabel('Class')\n",
    "plt.ylabel('Count')\n",
    "plt.show()"
   ]
  },
  {
   "cell_type": "code",
   "execution_count": null,
   "id": "635b8288-0405-4136-a487-ab82c1f05ac8",
   "metadata": {},
   "outputs": [],
   "source": []
  },
  {
   "cell_type": "markdown",
   "id": "26e90044-bde0-4da0-9672-faebd2bcd970",
   "metadata": {},
   "source": [
    "#### By oversampling the minority classes, you create a more balanced dataset where the model sees an equal or more representative number of instances from each class. This helps the model learn from all classes more effectively"
   ]
  },
  {
   "cell_type": "code",
   "execution_count": 47,
   "id": "30b46db0-1578-49aa-9a0f-f5e2627028bb",
   "metadata": {},
   "outputs": [],
   "source": [
    "# Oversample the minority classes\n",
    "X_resampled, y_resampled = X, y\n",
    "\n",
    "for i in range(1, y.max() + 1):\n",
    "    X_upsample, y_upsample = resample(X[y == i], y[y == i],\n",
    "                                      replace=True,  # sample with replacement\n",
    "                                      n_samples=X[y == 0].shape[0],  # match number of majority class\n",
    "                                      random_state=42)\n",
    "    X_resampled = np.vstack((X_resampled, X_upsample))\n",
    "    y_resampled = np.hstack((y_resampled, y_upsample))"
   ]
  },
  {
   "cell_type": "markdown",
   "id": "f0340bd1-7e70-4930-9009-f2128542f2aa",
   "metadata": {},
   "source": [
    "### Shuffling breaks any order or sequence that may exist in the dataset, ensuring that the model learns from the features rather than any artificial patterns introduced by the data's order"
   ]
  },
  {
   "cell_type": "code",
   "execution_count": 50,
   "id": "8196893a-e001-43c3-931b-371de1b93183",
   "metadata": {},
   "outputs": [],
   "source": [
    "# Shuffle the resampled data\n",
    "X_resampled, y_resampled = shuffle(X_resampled, y_resampled, random_state=42)"
   ]
  },
  {
   "cell_type": "markdown",
   "id": "8068f52a-8ed5-4f26-a7e1-139d7dcf42ba",
   "metadata": {},
   "source": [
    "#### By splitting the data into training and test sets, you can train the model on one set (training data) and evaluate its performance on a separate set of data (test data) that the model hasn't seen before. This helps you assess how well the model generalizes to new data."
   ]
  },
  {
   "cell_type": "code",
   "execution_count": 53,
   "id": "d80506d7-6a93-4917-8b4d-8145f997a760",
   "metadata": {},
   "outputs": [],
   "source": [
    "# Split the resampled data into training and test sets\n",
    "X_train, X_test, y_train, y_test = train_test_split(X_resampled, y_resampled, test_size=0.2, random_state=42)"
   ]
  },
  {
   "cell_type": "markdown",
   "id": "6bde6409-ae1e-4cc1-8f1c-dfc575035bbb",
   "metadata": {},
   "source": [
    "#### Feature scaling ensures that all features contribute equally to the model by bringing them to a common scale, typically between 0 and 1 (min-max scaling) or a mean of 0 and standard deviation of 1 (standardization)."
   ]
  },
  {
   "cell_type": "code",
   "execution_count": 56,
   "id": "2077f805-2b06-47e8-8a84-0b815cb3c6e7",
   "metadata": {},
   "outputs": [],
   "source": [
    "# Feature scaling\n",
    "scaler = StandardScaler()\n",
    "X_train = scaler.fit_transform(X_train)\n",
    "X_test = scaler.transform(X_test)"
   ]
  },
  {
   "cell_type": "code",
   "execution_count": 58,
   "id": "5932ff1e-a578-45fa-ba22-f1aaca4ba050",
   "metadata": {},
   "outputs": [],
   "source": [
    "# Initialize models\n",
    "models = {\n",
    "    'RandomForest': RandomForestClassifier(random_state=42),\n",
    "    'SVM': SVC(random_state=42),\n",
    "    'XGBoost': XGBClassifier(random_state=42)\n",
    "}"
   ]
  },
  {
   "cell_type": "code",
   "execution_count": 60,
   "id": "a8191f94-c7a6-4839-ad63-9a6dcb27587c",
   "metadata": {},
   "outputs": [],
   "source": [
    "# Define hyperparameter grids for tuning\n",
    "param_grids = {\n",
    "    'RandomForest': {\n",
    "        'n_estimators': [100, 200],\n",
    "        'max_depth': [10, 20],\n",
    "        'min_samples_split': [2, 5],\n",
    "        'min_samples_leaf': [1, 2]\n",
    "    },\n",
    "    'SVM': {\n",
    "        'C': [0.1, 1, 10],\n",
    "        'kernel': ['linear', 'rbf'],\n",
    "        'gamma': ['scale', 'auto']\n",
    "    },\n",
    "    'XGBoost': {\n",
    "        'n_estimators': [100, 200],\n",
    "        'learning_rate': [0.01, 0.1],\n",
    "        'max_depth': [3, 5]\n",
    "    }\n",
    "}"
   ]
  },
  {
   "cell_type": "code",
   "execution_count": 62,
   "id": "a2908bb2-f0fb-4919-8b6a-6957c208d117",
   "metadata": {},
   "outputs": [],
   "source": [
    "# Initialize dictionaries to store best models and scores\n",
    "best_models = {}\n",
    "best_scores = {}"
   ]
  },
  {
   "cell_type": "code",
   "execution_count": 64,
   "id": "605de6cb-46b7-44ab-912a-0702f6647d80",
   "metadata": {},
   "outputs": [],
   "source": [
    "# Tune and evaluate each model\n",
    "for model_name in models.keys():\n",
    "    model = models[model_name]\n",
    "    param_grid = param_grids[model_name]\n",
    "    grid_search = GridSearchCV(model, param_grid, cv=5, n_jobs=-1, scoring='accuracy')\n",
    "    grid_search.fit(X_train, y_train)\n",
    "    best_models[model_name] = grid_search.best_estimator_\n",
    "    best_scores[model_name] = grid_search.best_score_"
   ]
  },
  {
   "cell_type": "code",
   "execution_count": 66,
   "id": "f5e2c7ce-369f-4691-986e-381a53bcf706",
   "metadata": {},
   "outputs": [],
   "source": [
    "# Identify the best model based on cross-validated accuracy\n",
    "best_model_name = max(best_scores, key=best_scores.get)\n",
    "best_model = best_models[best_model_name]"
   ]
  },
  {
   "cell_type": "code",
   "execution_count": 68,
   "id": "e9793cd8-8af8-4a6a-ae57-1e9757ae30d8",
   "metadata": {},
   "outputs": [],
   "source": [
    "# Evaluate the best model on the test set\n",
    "best_model.fit(X_train, y_train)\n",
    "y_pred = best_model.predict(X_test)\n"
   ]
  },
  {
   "cell_type": "code",
   "execution_count": 69,
   "id": "12d7ace2-2590-474e-8305-11ff61d42e6b",
   "metadata": {},
   "outputs": [],
   "source": [
    "# Calculate accuracy and classification report for the best model\n",
    "accuracy_best = accuracy_score(y_test, y_pred)\n",
    "classification_rep_best = classification_report(y_test, y_pred)"
   ]
  },
  {
   "cell_type": "code",
   "execution_count": 72,
   "id": "22c208e3-31e6-466d-9d0c-1d6b3fee8e46",
   "metadata": {},
   "outputs": [],
   "source": [
    "# Predicting the class of a new patient with the best model\n",
    "new_patient_data = [63, 1, 3, 145, 233, 1, 2, 150, 0, 2.3, 3, 0, 6]\n",
    "new_patient_scaled = scaler.transform([new_patient_data])\n",
    "predicted_class_best = best_model.predict(new_patient_scaled)[0]\n",
    "treatment_cost_best = 100 * (predicted_class_best + 1)"
   ]
  },
  {
   "cell_type": "code",
   "execution_count": 74,
   "id": "e1f00573-0d84-4e8b-8cfd-116bfe2fffd1",
   "metadata": {},
   "outputs": [
    {
     "name": "stdout",
     "output_type": "stream",
     "text": [
      "Best Model: XGBoost\n",
      "Model Accuracy: 0.9285714285714286\n",
      "Classification Report:\n",
      "              precision    recall  f1-score   support\n",
      "\n",
      "           0       0.95      0.70      0.81        30\n",
      "           1       0.91      0.91      0.91        44\n",
      "           2       0.84      1.00      0.91        37\n",
      "           3       0.97      1.00      0.99        35\n",
      "           4       1.00      1.00      1.00        36\n",
      "\n",
      "    accuracy                           0.93       182\n",
      "   macro avg       0.94      0.92      0.92       182\n",
      "weighted avg       0.93      0.93      0.93       182\n",
      "\n",
      "Predicted Class for New Patient: 0\n",
      "Estimated Treatment Cost: $100\n"
     ]
    }
   ],
   "source": [
    "# Output the results\n",
    "print(f\"Best Model: {best_model_name}\")\n",
    "print(f\"Model Accuracy: {accuracy_best}\")\n",
    "print(f\"Classification Report:\\n{classification_rep_best}\")\n",
    "print(f\"Predicted Class for New Patient: {predicted_class_best}\")\n",
    "print(f\"Estimated Treatment Cost: ${treatment_cost_best}\")"
   ]
  },
  {
   "cell_type": "markdown",
   "id": "f3c4a32d-2c40-4f8b-82e9-abb2f9b1886d",
   "metadata": {},
   "source": [
    "### RESULT\n",
    "#### With the given new patients input model predicted that patient class is 0 which is No heart health issues / risk and treatment cost is 100"
   ]
  }
 ],
 "metadata": {
  "kernelspec": {
   "display_name": "Python 3 (ipykernel)",
   "language": "python",
   "name": "python3"
  },
  "language_info": {
   "codemirror_mode": {
    "name": "ipython",
    "version": 3
   },
   "file_extension": ".py",
   "mimetype": "text/x-python",
   "name": "python",
   "nbconvert_exporter": "python",
   "pygments_lexer": "ipython3",
   "version": "3.11.7"
  }
 },
 "nbformat": 4,
 "nbformat_minor": 5
}
